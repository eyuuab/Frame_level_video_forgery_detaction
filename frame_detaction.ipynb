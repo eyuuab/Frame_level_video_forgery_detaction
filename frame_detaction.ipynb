import cv2
import numpy as np
import matplotlib.pyplot as plt


tampered_video_path = '/content/Inpaint2.mp4'  # Tampered video
real_video_path = '/content/ped.mp4'          # Real video

##  analyze video
def analyze_video(video_path, label):
    cap = cv2.VideoCapture(video_path)
    if not cap.isOpened():
        print(f"Error opening video file: {video_path}")
        return None

    prev_frame = None
    frame_differences = []
    threshold = 30

    while cap.isOpened():
        ret, frame = cap.read()
        if not ret:
            break

        ## Convert frame to grayscale
        gray = cv2.cvtColor(frame, cv2.COLOR_BGR2GRAY)

        if prev_frame is not None:
            ## Calculate absolute difference between cur and prev frame
            diff = cv2.absdiff(gray, prev_frame)
            non_zero = np.count_nonzero(diff)  # Count non-zero pixels
            frame_differences.append(non_zero)

            ## Flag potential tampering
            if non_zero < threshold:
                print(f"{label}: Potential duplicate/freeze at frame: {int(cap.get(cv2.CAP_PROP_POS_FRAMES))}")

        prev_frame = gray

    cap.release()
    return frame_differences


tampered_differences = analyze_video(tampered_video_path, "Tampered Video")
real_differences = analyze_video(real_video_path, "Real Video")
